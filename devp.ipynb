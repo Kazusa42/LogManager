{
 "cells": [
  {
   "cell_type": "code",
   "execution_count": 4,
   "metadata": {},
   "outputs": [],
   "source": [
    "import re\n",
    "import os\n",
    "import math\n",
    "import statistics\n",
    "\n",
    "import pandas as pd\n",
    "\n",
    "from collections import defaultdict"
   ]
  },
  {
   "cell_type": "code",
   "execution_count": 8,
   "metadata": {},
   "outputs": [
    {
     "name": "stdout",
     "output_type": "stream",
     "text": [
      "<class 'list'>\n",
      "(PORT 1) : 6a,5,0,18,21,43,65,87,0,3,1,2e,3,71,0,0,0,0,0,c9,c7,7f,55,0,0,0,0,0   TimeStamp  :  3532       Distance  :  814\n",
      "3\n",
      "<class 'str'>\n"
     ]
    }
   ],
   "source": [
    "log_file_path = r'C:\\Users\\lyin0\\Desktop\\LogManager\\logs\\8.0m.log'\n",
    "\n",
    "with open(log_file_path, 'r', encoding='utf-8') as f:\n",
    "    content = [line.strip() for line in f.readlines() if line.strip()]\n",
    "print(type(content))\n",
    "print(content[37])\n",
    "print(content[37].split(',')[9])\n",
    "print(type(content[37].split(',')[9]))"
   ]
  },
  {
   "cell_type": "code",
   "execution_count": null,
   "metadata": {},
   "outputs": [
    {
     "name": "stdout",
     "output_type": "stream",
     "text": [
      "1\n",
      "<class 'str'>\n"
     ]
    }
   ],
   "source": [
    "import re\n",
    "\n",
    "distance_pattern = r\"PORT\\s*(\\d+)\"\n",
    "curr_dist = re.search(distance_pattern, content[37]).group(1)\n",
    "\n",
    "print(curr_dist)\n",
    "print(type(curr_dist))"
   ]
  },
  {
   "cell_type": "code",
   "execution_count": null,
   "metadata": {},
   "outputs": [],
   "source": [
    "from collections import defaultdict\n",
    "\n",
    "def extract_distance_from_gui_log(log_content: list, pattern:str, device_info_pattern=r\"PORT\\s*(\\d+)\") -> defaultdict:\n",
    "    distances = defaultdict(list)\n",
    "    for line in log_content:\n",
    "        # extract port information\n",
    "        device_info = re.search(device_info_pattern, line).group(1)\n",
    "\n",
    "        # extract secutrity status code\n",
    "        security_status_code = int(line.split(',')[9])\n",
    "\n",
    "        if not security_status_code:  # security status code is 0\n",
    "            tmp = float(re.search(pattern, line).group(1))\n",
    "            # regard 65535 as failed ranging result\n",
    "            dist = tmp if tmp != 65535 else float('NaN')\n",
    "        else:\n",
    "            # security code is not 0\n",
    "            # un-secured results, regarded as ranging failed\n",
    "            dist = float('NaN')\n",
    "        distances[device_info].append(dist)\n",
    "    return distances"
   ]
  },
  {
   "cell_type": "code",
   "execution_count": 15,
   "metadata": {},
   "outputs": [
    {
     "name": "stdout",
     "output_type": "stream",
     "text": [
      "<class 'collections.defaultdict'>\n",
      "dict_keys(['1'])\n"
     ]
    }
   ],
   "source": [
    "tmp = extract_distance_from_gui_log(content, pattern=r\"Distance\\s*:\\s*(\\d+)\")\n",
    "print(type(tmp))\n",
    "print(tmp.keys())"
   ]
  },
  {
   "cell_type": "code",
   "execution_count": 26,
   "metadata": {},
   "outputs": [],
   "source": [
    "import re\n",
    "import os\n",
    "\n",
    "import pandas as pd\n",
    "\n",
    "\n",
    "class LogAnalyst(object):\n",
    "    def __init__(self, warmup_samples: int, analysis_samples: int) -> None:\n",
    "        self._warmup_samples = warmup_samples\n",
    "        self._analysis_samples = analysis_samples\n",
    "        self._content = None\n",
    "\n",
    "        self._distance_pattern = {\n",
    "            'gui': r\"Distance\\s*:\\s*(\\d+)\",\n",
    "            'teraterm': r\"Distance\\[cm\\]: (\\d+|-)\",\n",
    "            'mobis': r\">> RAD RESULT:( Time Out|([\\d.]+))\"\n",
    "        }\n",
    "\n",
    "        self._ranging_failed_flag = {\n",
    "            'gui': r\"65535\",\n",
    "            'teraterm': r\"-\",\n",
    "            'mobis': r\" Time Out\"\n",
    "        }\n",
    "\n",
    "        # all ranging results, including valid and invalid\n",
    "        # with unit cm\n",
    "        self.distances = defaultdict(list)  \n",
    "        self.analysis_results = {}  # analysis results\n",
    "\n",
    "    def decide_log_file_type(self, log_file_path: str) -> str:\n",
    "        \"\"\" guess log file type from content \"\"\"\n",
    "        with open(log_file_path, 'r', encoding='utf-8') as f:\n",
    "            # read log file line by line and remove empty line\n",
    "            self._content = [line.strip() for line in f.readlines() if line.strip()]\n",
    "        \n",
    "        if not self._content:  # empty log file\n",
    "            return None\n",
    "        \n",
    "        for line in self._content:\n",
    "            if \"PORT\" in line and \"TimeStamp\" in line:\n",
    "                return 'gui'\n",
    "            elif \"Status\" in line and \"BlockIndex\" in line:\n",
    "                return 'teraterm'\n",
    "            elif \"RAD RESULT\" in line:\n",
    "                return 'mobis'\n",
    "            else: continue \n",
    "        return None\n",
    "    \n",
    "    def extract_distance(self, log_file_type, device_info_pattern=r\"PORT\\s*(\\d+)\"):\n",
    "        distance_pattern = self._distance_pattern[log_file_type]\n",
    "        ranging_failed_flag = self._ranging_failed_flag[log_file_type]\n",
    "\n",
    "        for line in self._content:\n",
    "            device_id = '0'\n",
    "            security_status_code = 0\n",
    "\n",
    "            if log_file_type == 'gui':\n",
    "                # extract port information for gui log\n",
    "                device_id = re.search(device_info_pattern, line).group(1)\n",
    "                # extract secutrity status code\n",
    "                security_status_code = int(line.split(',')[9])\n",
    "            \n",
    "            # search distance information in current line\n",
    "            match = re.search(distance_pattern, line)\n",
    "            # only deal lines contains distance information\n",
    "            if match:\n",
    "                if not security_status_code:\n",
    "                    tmp = match.group(1)\n",
    "                    curr_dist = float(tmp) if tmp != ranging_failed_flag else float('inf')\n",
    "                else:\n",
    "                    # security code is not 0\n",
    "                    # un-secured results, regarded as ranging failed\n",
    "                    curr_dist = float('inf')\n",
    "                \n",
    "                if log_file_type == 'mobis' and not math.isinf(curr_dist):\n",
    "                    # change the unit to cm\n",
    "                    curr_dist = round(curr_dist * 100)\n",
    "                self.distances[device_id].append(curr_dist)\n",
    "\n",
    "        # intercept useful distances\n",
    "        for device_id in self.distances.keys():\n",
    "            length = len(self.distances[device_id])\n",
    "            if length <= self._warmup_samples:\n",
    "                self.distances[device_id] = self.distances[device_id]\n",
    "            elif self._warmup_samples < length <= (self._warmup_samples + self._analysis_samples):\n",
    "                self.distances[device_id] = self.distances[device_id][self._warmup_samples:]\n",
    "            elif (self._warmup_samples + self._analysis_samples) < length:\n",
    "                self.distances[device_id] = self.distances[device_id][self._warmup_samples:self._warmup_samples + self._analysis_samples]\n",
    "            else: pass\n",
    "\n",
    "    def analysis(self, physical_distance: float, device_id: str):\n",
    "        valid_dists = self.distances[device_id]  # all ranging results used to analysis\n",
    "\n",
    "        success_dists = [d for d in valid_dists if not math.isinf(d)]  # successful ranging results\n",
    "        if not success_dists:\n",
    "            raise ValueError('All ranging failed. No valied ranging results to analysis.')\n",
    "            \n",
    "        min_dist = min(success_dists)\n",
    "        max_dist = max(success_dists)\n",
    "        ave_dist = statistics.mean(success_dists)\n",
    "        median_dist = statistics.median(success_dists)\n",
    "        stdev = statistics.stdev(success_dists)\n",
    "\n",
    "        if math.isinf(physical_distance):\n",
    "            offset = 'None (True distance is not provided)'\n",
    "        else:\n",
    "            offset = (physical_distance - ave_dist)\n",
    "            \n",
    "        successed_cnt = len(success_dists)\n",
    "        failed_cnt = len(valid_dists) - successed_cnt\n",
    "        ranging_success_rate = successed_cnt / len(valid_dists)\n",
    "\n",
    "        self.analysis_results[device_id] = {\n",
    "            'min distance (cm)': min_dist,\n",
    "            'max distance (cm)': max_dist,\n",
    "            'average distance (cm)': round(ave_dist, 2),\n",
    "            'median distance (cm)': round(median_dist, 2),\n",
    "            'offset (real - ave.) (cm)': round(offset, 2),\n",
    "            'std. deviation': round(stdev, 2),\n",
    "            'success count': successed_cnt,\n",
    "            'fail count': failed_cnt,\n",
    "            'success rate': round(ranging_success_rate, 2)\n",
    "        }\n",
    "    \n",
    "    def show_result(self, device_id):\n",
    "        print(f\"Ranging results from device @ port {device_id}:\")\n",
    "        print(f\"{' Metric':<30}{' Value':<10}\\n\" + '-' * 41)\n",
    "        for key, value in self.analysis_results[device_id].items():\n",
    "            print(f\" {key:<30}{value:<10}\")\n",
    "        print('-' * 41, end='\\n\\n')\n",
    "    \n",
    "    def save_result(self, save_file_path):\n",
    "        with pd.ExcelWriter(save_file_path, engine='openpyxl') as writer:\n",
    "            for device_id, results in self.analysis_results.items():\n",
    "                dists = self.distances[device_id]\n",
    "\n",
    "                max_len = max(len(dists), len(results))\n",
    "                data = {\n",
    "                    'Ranging result': dists + [None] * (max_len - len(dists)),\n",
    "                    'Metric': list(results.keys()) + [None] * (max_len - len(results)),\n",
    "                    'Value': list(results.values()) + [None] * (max_len - len(results))\n",
    "                }\n",
    "\n",
    "                df = pd.DataFrame(data)\n",
    "                df.fillna('nan')\n",
    "                df.to_excel(writer, sheet_name=f\"device@port{device_id}\", index=False)\n",
    "        "
   ]
  },
  {
   "cell_type": "code",
   "execution_count": 27,
   "metadata": {},
   "outputs": [
    {
     "name": "stdout",
     "output_type": "stream",
     "text": [
      "gui\n",
      "defaultdict(<class 'list'>, {'1': [838.0, 836.0, 837.0, 833.0, 832.0, 840.0, 834.0, 833.0, inf, 834.0, 835.0, 829.0, 837.0, 835.0, 836.0, 837.0, 837.0, 837.0, 836.0, 836.0, 841.0, 837.0, inf, 833.0, inf, inf, 840.0, inf, 833.0, 841.0, 840.0, 837.0, 835.0, inf, 833.0, 841.0, 836.0, 835.0, 838.0, 836.0, inf, inf, 832.0, 837.0, 837.0, 838.0, inf, 836.0, 836.0, inf, 833.0, 833.0, 836.0, inf, 835.0, 839.0, 839.0, inf, 835.0, 842.0, 836.0, 838.0, inf, inf, 838.0, 837.0, inf, 818.0, inf, 838.0, 837.0, 836.0, 836.0, 836.0, inf, inf, 838.0, 838.0, 826.0, 836.0, 841.0, 834.0, inf, 840.0, inf, inf, inf, 834.0, 839.0, 839.0, 834.0, 836.0, inf, inf, 834.0, 836.0, 836.0, 833.0, 836.0, 835.0]})\n"
     ]
    }
   ],
   "source": [
    "log_file_path = r'C:\\Users\\lyin0\\Desktop\\LogManager\\logs\\8.0m.log'\n",
    "\n",
    "test_loganalyst = LogAnalyst(warmup_samples=10, analysis_samples=100)\n",
    "file_type = test_loganalyst.decide_log_file_type(log_file_path)\n",
    "print(file_type)\n",
    "test_loganalyst.extract_distance(file_type)\n",
    "print(test_loganalyst.distances)\n"
   ]
  },
  {
   "cell_type": "code",
   "execution_count": 28,
   "metadata": {},
   "outputs": [
    {
     "name": "stdout",
     "output_type": "stream",
     "text": [
      "Ranging results from device @ port 1:\n",
      " Metric                        Value    \n",
      "-----------------------------------------\n",
      " min distance (cm)             818.0     \n",
      " max distance (cm)             842.0     \n",
      " average distance (cm)         835.93    \n",
      " median distance (cm)          836.0     \n",
      " offset (real - ave.) (cm)     -35.93    \n",
      " std. deviation                3.44      \n",
      " success count                 76        \n",
      " fail count                    24        \n",
      " success rate                  0.76      \n",
      "-----------------------------------------\n",
      "\n"
     ]
    }
   ],
   "source": [
    "for device_id in test_loganalyst.distances.keys():\n",
    "    test_loganalyst.analysis(physical_distance=800, device_id=device_id)\n",
    "    test_loganalyst.show_result(device_id=device_id)"
   ]
  },
  {
   "cell_type": "code",
   "execution_count": 29,
   "metadata": {},
   "outputs": [],
   "source": [
    "save_file_path = r\"C:\\Users\\lyin0\\Desktop\\LogManager\\analysis_results\\test.xlsx\"\n",
    "test_loganalyst.save_result(save_file_path)"
   ]
  },
  {
   "cell_type": "code",
   "execution_count": null,
   "metadata": {},
   "outputs": [],
   "source": []
  },
  {
   "cell_type": "code",
   "execution_count": 30,
   "metadata": {},
   "outputs": [
    {
     "name": "stdout",
     "output_type": "stream",
     "text": [
      "['300.cm', '']\n"
     ]
    }
   ],
   "source": [
    "test = '300.cm.log'\n",
    "print(test.split('.log'))"
   ]
  },
  {
   "cell_type": "code",
   "execution_count": null,
   "metadata": {},
   "outputs": [],
   "source": []
  }
 ],
 "metadata": {
  "kernelspec": {
   "display_name": "base",
   "language": "python",
   "name": "python3"
  },
  "language_info": {
   "codemirror_mode": {
    "name": "ipython",
    "version": 3
   },
   "file_extension": ".py",
   "mimetype": "text/x-python",
   "name": "python",
   "nbconvert_exporter": "python",
   "pygments_lexer": "ipython3",
   "version": "3.11.5"
  }
 },
 "nbformat": 4,
 "nbformat_minor": 2
}
